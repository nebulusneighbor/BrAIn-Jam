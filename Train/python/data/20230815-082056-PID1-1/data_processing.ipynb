{
  "nbformat": 4,
  "nbformat_minor": 0,
  "metadata": {
    "colab": {
      "provenance": []
    },
    "kernelspec": {
      "name": "python3",
      "display_name": "Python 3"
    },
    "language_info": {
      "name": "python"
    }
  },
  "cells": [
    {
      "cell_type": "markdown",
      "source": [
        "Create dataframes (in `dfs`) with FNIRs channels as columns, mean HbR/HbO over all channels and relative mean HbR/HbO over all channels (mean HbR/HbO normalized to 0 at time 0 for each trial) for each time step\n",
        "\n",
        "**Notes:**\n",
        "- I strongly recommend running this on your local machine to avoid uploading large files to Drive, because this code requires the original cleaned data files which are huge\n",
        "- This code takes approximately 10 minutes to run per dataset (a single participant / session)\n",
        "- To visualize, save the processed data to csv and use the visualization notebook\n",
        "\n",
        "**Instructions:**\n",
        "- Download `\\cleaned-data-for-visualization\\data-clean-2x` from OneDrive and put the folder into the same path as this Jupyter notebook if running locally or upload to Google Drive if running on Google Colab\n",
        "- To run on Google colab, set the `path` variable to the path of the `data-clean-2x` folder in section"
      ],
      "metadata": {
        "id": "z6sSKTVDXrTI"
      }
    },
    {
      "cell_type": "code",
      "source": [
        "# If running on Google Colab\n",
        "from google.colab import drive\n",
        "drive.mount('/content/drive')"
      ],
      "metadata": {
        "colab": {
          "base_uri": "https://localhost:8080/"
        },
        "id": "drvWPksra5GZ",
        "outputId": "c96751a1-9fbb-4f31-eb91-95726bcf6659"
      },
      "execution_count": 18,
      "outputs": [
        {
          "output_type": "stream",
          "name": "stdout",
          "text": [
            "Drive already mounted at /content/drive; to attempt to forcibly remount, call drive.mount(\"/content/drive\", force_remount=True).\n"
          ]
        }
      ]
    },
    {
      "cell_type": "code",
      "source": [
        "import pandas as pd\n",
        "\n",
        "import matplotlib.pyplot as plt\n",
        "import numpy as np\n",
        "import seaborn as sns\n",
        "from datetime import datetime\n",
        "\n",
        "from numpy.random import seed\n",
        "from numpy.random import randn\n",
        "from numpy.random import normal\n",
        "from scipy import stats\n",
        "\n",
        "# Create variables\n",
        "# Path of the \"data-processed\" folder\n",
        "path = \"data-clean-2x/\"\n",
        "\n",
        "# For colab only: update the file path of the data-processed folder, otherwise, comment the next line out\n",
        "path = \"/content/drive/MyDrive/BrAIn_Jam/data/data-clean-2x/\"\n",
        "\n",
        "conditions = ['Control', 'Condition 1', 'Condition 2', 'Condition 3']\n",
        "current_condition = -1"
      ],
      "metadata": {
        "id": "BtXEWqAUZLyX"
      },
      "execution_count": 19,
      "outputs": []
    },
    {
      "cell_type": "code",
      "execution_count": 21,
      "metadata": {
        "id": "cx8YV3ZS-AlT"
      },
      "outputs": [],
      "source": [
        "# Load the CSV file\n",
        "df = pd.read_csv(f'{path}sam-1.csv')\n",
        "df['Timestamp'] = pd.to_datetime(df['Timestamp'])\n",
        "\n",
        "channels = list(df['Type'][:100].unique())\n",
        "channels = channels[1:]\n",
        "hbo_channels = []\n",
        "hbr_channels = []\n",
        "for channel in channels:\n",
        "    if \"HbO\" in channel:\n",
        "        hbo_channels.append(channel)\n",
        "    else:\n",
        "        hbr_channels.append(channel)\n",
        "\n",
        "num_channels = len(hbr_channels)\n",
        "\n",
        "# Create dataframes\n",
        "cols = ['Timestamp','Trial','Average HbR', 'Average HbO'] + hbo_channels + hbr_channels\n",
        "df_c = pd.DataFrame(columns=cols)\n",
        "df_c1 = pd.DataFrame(columns=cols)\n",
        "df_c2 = pd.DataFrame(columns=cols)\n",
        "df_c3 = pd.DataFrame(columns=cols)\n",
        "dfs = [df_c, df_c1, df_c2, df_c3]\n"
      ]
    },
    {
      "cell_type": "code",
      "execution_count": 27,
      "metadata": {
        "id": "9oXI0k4t-AlU"
      },
      "outputs": [],
      "source": [
        "# Format data\n",
        "for index, row in df.iterrows():\n",
        "    timestamp = row['Timestamp']\n",
        "    trigger = str(row['Trigger'])\n",
        "    value_type = str(row['Type'])\n",
        "    value = row['Value']\n",
        "\n",
        "    if \"Trigger\" in trigger:\n",
        "\n",
        "        for i, condition in enumerate(conditions):\n",
        "            if condition in trigger and \"Start\" in trigger:\n",
        "                current_condition = i\n",
        "                df_curr = dfs[current_condition]\n",
        "                if len(df_curr.index) == 0:\n",
        "                    trial = 1\n",
        "                else:\n",
        "                    trial = df_curr.loc[len(df_curr.index)-1,'Trial']+1\n",
        "\n",
        "            elif condition in trigger and \"End\" in trigger:\n",
        "                current_condition = -1\n",
        "\n",
        "\n",
        "    if current_condition != -1 and not pd.isnull(value):\n",
        "\n",
        "        # New trial\n",
        "        if len(df_curr.index) == 0 or df_curr.loc[len(df_curr.index)-1,value_type] != 0:\n",
        "            # Add new row\n",
        "            df_curr.loc[len(df_curr.index)] = 0\n",
        "\n",
        "            df_curr.loc[len(df_curr.index)-1,'Timestamp'] = timestamp\n",
        "            df_curr.loc[len(df_curr.index)-1,'Trial'] = trial\n",
        "\n",
        "        df_curr.loc[len(df_curr.index)-1,value_type] = value"
      ]
    },
    {
      "cell_type": "code",
      "execution_count": 23,
      "metadata": {
        "id": "Ek24MLxi-AlU"
      },
      "outputs": [],
      "source": [
        "# Calculate Average HbO and HbR over all channels\n",
        "for df_curr in dfs:\n",
        "    for i,row in df_curr.iterrows():\n",
        "        df_curr.loc[i,'Average HbO'] = df_curr.iloc[i,4:4+num_channels].mean()\n",
        "        df_curr.loc[i,'Average HbR'] = df_curr.iloc[i,4+num_channels:].mean()"
      ]
    },
    {
      "cell_type": "code",
      "execution_count": 24,
      "metadata": {
        "id": "10ET5tY4-AlV"
      },
      "outputs": [],
      "source": [
        "# Calculate time since start of each trial\n",
        "for df_curr in dfs:\n",
        "     df_curr.insert(1, 'Time', 0, True)\n",
        "\n",
        "for df_curr in dfs:\n",
        "    for i, trial in df_curr.groupby(\"Trial\"):\n",
        "        start_time = trial.loc[trial.index[0],'Timestamp']\n",
        "        for index, row in trial.iterrows():\n",
        "            if index > 0:\n",
        "                    df_curr.loc[index,'Time'] = (row['Timestamp']-start_time).total_seconds()"
      ]
    },
    {
      "cell_type": "code",
      "execution_count": 26,
      "metadata": {
        "id": "Bmrd1S_O-AlV"
      },
      "outputs": [],
      "source": [
        "# Normalize mean HbR/HbOs to 0 at time 0 for each trial\n",
        "\n",
        "# Number of trials averaged when computing HbR/HbO at time 0\n",
        "num_trials = 5\n",
        "\n",
        "for df_curr in dfs:\n",
        "     df_curr.insert(5, 'Relative HbR', 0, True)\n",
        "     df_curr.insert(6, 'Relative HbO', 0, True)\n",
        "\n",
        "for df_curr in dfs:\n",
        "    for i, trial in df_curr.groupby(\"Trial\"):\n",
        "        initial_hbo = trial.loc[trial.index[0]:trial.index[0]+num_trials,'Average HbO'].mean()\n",
        "        initial_hbr = trial.loc[trial.index[0]:trial.index[0]+num_trials,'Average HbR'].mean()\n",
        "        for index, row in trial.iterrows():\n",
        "            df_curr.loc[index,'Relative HbO'] = row['Average HbO']-initial_hbo\n",
        "            df_curr.loc[index,'Relative HbR'] = row['Average HbR']-initial_hbr"
      ]
    },
    {
      "cell_type": "code",
      "execution_count": null,
      "metadata": {
        "id": "sXR3vNYb-AlW"
      },
      "outputs": [],
      "source": [
        "# # Save csv\n",
        "# df_c.to_csv(f'niko-2-c.csv', sep=',', index=False, encoding='utf-8')\n",
        "# df_c1.to_csv(f'niko-2-c1.csv', sep=',', index=False, encoding='utf-8')\n",
        "# df_c2.to_csv(f'niko-2-c2.csv', sep=',', index=False, encoding='utf-8')\n",
        "# df_c3.to_csv(f'niko-2-c3.csv', sep=',', index=False, encoding='utf-8')"
      ]
    }
  ]
}